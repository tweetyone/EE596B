{
  "nbformat": 4,
  "nbformat_minor": 0,
  "metadata": {
    "colab": {
      "name": "HW1_MNIST.ipynb",
      "version": "0.3.2",
      "provenance": [],
      "collapsed_sections": []
    },
    "language_info": {
      "codemirror_mode": {
        "name": "ipython",
        "version": 3
      },
      "file_extension": ".py",
      "mimetype": "text/x-python",
      "name": "python",
      "nbconvert_exporter": "python",
      "pygments_lexer": "ipython3",
      "version": "3.7.3"
    },
    "kernelspec": {
      "name": "python3",
      "display_name": "Python 3"
    },
    "accelerator": "TPU"
  },
  "cells": [
    {
      "metadata": {
        "id": "zwejslffGVLC",
        "colab_type": "code",
        "colab": {}
      },
      "cell_type": "code",
      "source": [
        "import tensorflow as tf\n",
        "old_v = tf.logging.get_verbosity()\n",
        "tf.logging.set_verbosity(tf.logging.ERROR)"
      ],
      "execution_count": 0,
      "outputs": []
    },
    {
      "metadata": {
        "id": "yAn6of2cGVLH",
        "colab_type": "text"
      },
      "cell_type": "markdown",
      "source": [
        "<h2>Extract MNIST data</h2>\n",
        "<p style=\"font-size:20px\">You can change the option of one_hot encoding."
      ]
    },
    {
      "metadata": {
        "id": "3D2u0Tb0GVLI",
        "colab_type": "code",
        "outputId": "a5bb3abb-8463-459b-f9d5-5eec765bcb7a",
        "colab": {
          "base_uri": "https://localhost:8080/",
          "height": 85
        }
      },
      "cell_type": "code",
      "source": [
        "from tensorflow.examples.tutorials.mnist import input_data\n",
        "#get mnist data, with one_hot encoding\n",
        "mnist = input_data.read_data_sets(\"MNIST_data/\",one_hot=True)\n",
        "#suppress warnings\n",
        "tf.logging.set_verbosity(old_v)"
      ],
      "execution_count": 0,
      "outputs": [
        {
          "output_type": "stream",
          "text": [
            "Extracting MNIST_data/train-images-idx3-ubyte.gz\n",
            "Extracting MNIST_data/train-labels-idx1-ubyte.gz\n",
            "Extracting MNIST_data/t10k-images-idx3-ubyte.gz\n",
            "Extracting MNIST_data/t10k-labels-idx1-ubyte.gz\n"
          ],
          "name": "stdout"
        }
      ]
    },
    {
      "metadata": {
        "id": "y6S3xbDZGVLN",
        "colab_type": "text"
      },
      "cell_type": "markdown",
      "source": [
        "<h2>Define hyperparameters</h2>"
      ]
    },
    {
      "metadata": {
        "id": "VVZ6HSIWGVLN",
        "colab_type": "code",
        "colab": {}
      },
      "cell_type": "code",
      "source": [
        "#learning rate\n",
        "lr = 0.001\n",
        "#number of traning steps\n",
        "num_steps =10000\n",
        "#number of batch_size\n",
        "batch_size = 128\n",
        "\n",
        "#network parameters\n",
        "n_hidden_1 = 800\n",
        "n_hidden_2 = 1000\n",
        "n_hidden_3 = 800\n",
        "num_input = 784\n",
        "num_classes = 10"
      ],
      "execution_count": 0,
      "outputs": []
    },
    {
      "metadata": {
        "id": "8n0-VdLGGVLP",
        "colab_type": "text"
      },
      "cell_type": "markdown",
      "source": [
        "<h2>Define placeholder and Variables</h2>"
      ]
    },
    {
      "metadata": {
        "id": "wQWbPPKjGVLQ",
        "colab_type": "code",
        "colab": {}
      },
      "cell_type": "code",
      "source": [
        "tf.reset_default_graph()\n",
        "#tf graph input\n",
        "X = tf.placeholder(tf.float32,[None,num_input],name='X')\n",
        "Y = tf.placeholder(tf.int32,[None,num_classes],name='Y')\n",
        "\n",
        "#Layers weight & bias\n",
        "weights = {\n",
        "    'W1': tf.Variable(tf.random_normal([num_input, n_hidden_1]),name='W1'),\n",
        "    'W2': tf.Variable(tf.random_normal([n_hidden_1, n_hidden_2]),name='W2'),\n",
        "    'W3': tf.Variable(tf.random_normal([n_hidden_2, n_hidden_3]),name='W3'),\n",
        "    'Wout': tf.Variable(tf.random_normal([n_hidden_2, num_classes]),name='Wout')\n",
        "}\n",
        "\n",
        "biases = {\n",
        "    'b1': tf.Variable(tf.zeros(shape=[n_hidden_1]),name='b1'),\n",
        "    'b2': tf.Variable(tf.zeros(shape=[n_hidden_2]),name='b2'),\n",
        "    'b3': tf.Variable(tf.zeros(shape=[n_hidden_3]),name='b2'),\n",
        "    'bout': tf.Variable(tf.zeros(shape=[num_classes]),name='bout')\n",
        "}"
      ],
      "execution_count": 0,
      "outputs": []
    },
    {
      "metadata": {
        "id": "ZPY-YPR1GVLU",
        "colab_type": "text"
      },
      "cell_type": "markdown",
      "source": [
        "<h2>Define neural network</h2>"
      ]
    },
    {
      "metadata": {
        "id": "oNQsxSxhGVLV",
        "colab_type": "code",
        "colab": {}
      },
      "cell_type": "code",
      "source": [
        "#define a neural net model\n",
        "def neural_net(x):\n",
        "    layer_1_out = tf.nn.relu(tf.matmul(x,weights['W1']) + biases['b1'])\n",
        "    layer_2_out = tf.nn.relu(tf.matmul(layer_1_out,weights['W2']) +biases['b2'])\n",
        "    layer_3_out = tf.nn.relu(tf.matmul(layer_2_out,weights['W3']) +biases['b3'])\n",
        "    out = tf.add(tf.matmul(layer_2_out,weights['Wout']),biases['bout'])\n",
        "    return out"
      ],
      "execution_count": 0,
      "outputs": []
    },
    {
      "metadata": {
        "id": "FrBLX4gSGVLZ",
        "colab_type": "text"
      },
      "cell_type": "markdown",
      "source": [
        "<h2>Define cost function and accuracy</h2>"
      ]
    },
    {
      "metadata": {
        "id": "OkdKFGviGVLa",
        "colab_type": "code",
        "colab": {}
      },
      "cell_type": "code",
      "source": [
        "#predicted labels\n",
        "logits = neural_net(X)\n",
        "\n",
        "#define loss\n",
        "loss = tf.reduce_mean(tf.nn.softmax_cross_entropy_with_logits_v2(logits=logits,labels=Y),name='loss')\n",
        "#define optimizer\n",
        "optimizer = tf.train.AdamOptimizer(learning_rate=lr)\n",
        "train_op = optimizer.minimize(loss)\n",
        "\n",
        "#compare the predicted labels with true labels\n",
        "correct_pred = tf.equal(tf.argmax(logits,1),tf.argmax(Y,1))\n",
        "\n",
        "#compute the accuracy by taking average\n",
        "accuracy = tf.reduce_mean(tf.cast(correct_pred,tf.float32),name='accuracy')\n",
        "\n",
        "#Initialize the variables\n",
        "init = tf.global_variables_initializer()"
      ],
      "execution_count": 0,
      "outputs": []
    },
    {
      "metadata": {
        "id": "Y6KJWqViGVLc",
        "colab_type": "text"
      },
      "cell_type": "markdown",
      "source": [
        "<h2>Execute training</h2>"
      ]
    },
    {
      "metadata": {
        "id": "6La6O3kAGVLd",
        "colab_type": "code",
        "outputId": "8f23b6a0-44c2-4f16-e6aa-3521252b4ac6",
        "colab": {
          "base_uri": "https://localhost:8080/",
          "height": 3451
        }
      },
      "cell_type": "code",
      "source": [
        "with tf.Session() as sess:\n",
        "    sess.run(init)\n",
        "    \n",
        "    for i in range(num_steps):\n",
        "        #fetch batch\n",
        "        batch_x, batch_y = mnist.train.next_batch(batch_size)\n",
        "        #run optimization\n",
        "        sess.run(train_op, feed_dict={X:batch_x, Y:batch_y})\n",
        "        if i % 100 ==0:\n",
        "            acc = sess.run(accuracy,feed_dict={X:batch_x, Y:batch_y})\n",
        "            print(\"step \"+str(i)+\", Accuracy= {:.3f}\".format(acc))\n",
        "            print(\"Testing ACcuracy:\", sess.run(accuracy, feed_dict={X:mnist.test.images, Y:mnist.test.labels}))\n",
        "    \n",
        "    print(\"Training finished!\")\n",
        "    \n",
        "    print(\"Testing ACcuracy:\", sess.run(accuracy, feed_dict={X:mnist.test.images, Y:mnist.test.labels}))"
      ],
      "execution_count": 0,
      "outputs": [
        {
          "output_type": "stream",
          "text": [
            "step 0, Accuracy= 0.047\n",
            "Testing ACcuracy: 0.0721\n",
            "step 100, Accuracy= 0.727\n",
            "Testing ACcuracy: 0.8189\n",
            "step 200, Accuracy= 0.836\n",
            "Testing ACcuracy: 0.864\n",
            "step 300, Accuracy= 0.883\n",
            "Testing ACcuracy: 0.8902\n",
            "step 400, Accuracy= 0.875\n",
            "Testing ACcuracy: 0.9013\n",
            "step 500, Accuracy= 0.922\n",
            "Testing ACcuracy: 0.9115\n",
            "step 600, Accuracy= 0.922\n",
            "Testing ACcuracy: 0.9121\n",
            "step 700, Accuracy= 0.938\n",
            "Testing ACcuracy: 0.9171\n",
            "step 800, Accuracy= 0.914\n",
            "Testing ACcuracy: 0.9236\n",
            "step 900, Accuracy= 0.961\n",
            "Testing ACcuracy: 0.9291\n",
            "step 1000, Accuracy= 0.930\n",
            "Testing ACcuracy: 0.9314\n",
            "step 1100, Accuracy= 0.977\n",
            "Testing ACcuracy: 0.9343\n",
            "step 1200, Accuracy= 0.945\n",
            "Testing ACcuracy: 0.9343\n",
            "step 1300, Accuracy= 0.969\n",
            "Testing ACcuracy: 0.9357\n",
            "step 1400, Accuracy= 0.977\n",
            "Testing ACcuracy: 0.9411\n",
            "step 1500, Accuracy= 0.953\n",
            "Testing ACcuracy: 0.936\n",
            "step 1600, Accuracy= 1.000\n",
            "Testing ACcuracy: 0.9385\n",
            "step 1700, Accuracy= 0.969\n",
            "Testing ACcuracy: 0.9421\n",
            "step 1800, Accuracy= 0.961\n",
            "Testing ACcuracy: 0.9434\n",
            "step 1900, Accuracy= 0.969\n",
            "Testing ACcuracy: 0.9419\n",
            "step 2000, Accuracy= 0.984\n",
            "Testing ACcuracy: 0.9474\n",
            "step 2100, Accuracy= 1.000\n",
            "Testing ACcuracy: 0.9484\n",
            "step 2200, Accuracy= 0.961\n",
            "Testing ACcuracy: 0.949\n",
            "step 2300, Accuracy= 0.977\n",
            "Testing ACcuracy: 0.945\n",
            "step 2400, Accuracy= 0.992\n",
            "Testing ACcuracy: 0.9465\n",
            "step 2500, Accuracy= 0.945\n",
            "Testing ACcuracy: 0.9479\n",
            "step 2600, Accuracy= 1.000\n",
            "Testing ACcuracy: 0.9492\n",
            "step 2700, Accuracy= 0.992\n",
            "Testing ACcuracy: 0.9497\n",
            "step 2800, Accuracy= 0.992\n",
            "Testing ACcuracy: 0.9515\n",
            "step 2900, Accuracy= 1.000\n",
            "Testing ACcuracy: 0.9506\n",
            "step 3000, Accuracy= 0.992\n",
            "Testing ACcuracy: 0.9501\n",
            "step 3100, Accuracy= 0.992\n",
            "Testing ACcuracy: 0.9486\n",
            "step 3200, Accuracy= 0.961\n",
            "Testing ACcuracy: 0.9502\n",
            "step 3300, Accuracy= 0.984\n",
            "Testing ACcuracy: 0.9518\n",
            "step 3400, Accuracy= 0.984\n",
            "Testing ACcuracy: 0.9522\n",
            "step 3500, Accuracy= 0.984\n",
            "Testing ACcuracy: 0.9549\n",
            "step 3600, Accuracy= 0.992\n",
            "Testing ACcuracy: 0.9558\n",
            "step 3700, Accuracy= 1.000\n",
            "Testing ACcuracy: 0.9517\n",
            "step 3800, Accuracy= 1.000\n",
            "Testing ACcuracy: 0.9501\n",
            "step 3900, Accuracy= 1.000\n",
            "Testing ACcuracy: 0.9569\n",
            "step 4000, Accuracy= 1.000\n",
            "Testing ACcuracy: 0.9545\n",
            "step 4100, Accuracy= 0.992\n",
            "Testing ACcuracy: 0.9574\n",
            "step 4200, Accuracy= 1.000\n",
            "Testing ACcuracy: 0.9565\n",
            "step 4300, Accuracy= 1.000\n",
            "Testing ACcuracy: 0.9551\n",
            "step 4400, Accuracy= 1.000\n",
            "Testing ACcuracy: 0.9584\n",
            "step 4500, Accuracy= 0.992\n",
            "Testing ACcuracy: 0.955\n",
            "step 4600, Accuracy= 0.992\n",
            "Testing ACcuracy: 0.9579\n",
            "step 4700, Accuracy= 1.000\n",
            "Testing ACcuracy: 0.96\n",
            "step 4800, Accuracy= 1.000\n",
            "Testing ACcuracy: 0.9578\n",
            "step 4900, Accuracy= 0.992\n",
            "Testing ACcuracy: 0.9574\n",
            "step 5000, Accuracy= 1.000\n",
            "Testing ACcuracy: 0.9576\n",
            "step 5100, Accuracy= 1.000\n",
            "Testing ACcuracy: 0.9542\n",
            "step 5200, Accuracy= 1.000\n",
            "Testing ACcuracy: 0.9552\n",
            "step 5300, Accuracy= 1.000\n",
            "Testing ACcuracy: 0.9564\n",
            "step 5400, Accuracy= 1.000\n",
            "Testing ACcuracy: 0.9596\n",
            "step 5500, Accuracy= 1.000\n",
            "Testing ACcuracy: 0.9579\n",
            "step 5600, Accuracy= 0.984\n",
            "Testing ACcuracy: 0.9606\n",
            "step 5700, Accuracy= 0.992\n",
            "Testing ACcuracy: 0.9605\n",
            "step 5800, Accuracy= 0.992\n",
            "Testing ACcuracy: 0.9551\n",
            "step 5900, Accuracy= 0.984\n",
            "Testing ACcuracy: 0.9606\n",
            "step 6000, Accuracy= 1.000\n",
            "Testing ACcuracy: 0.9612\n",
            "step 6100, Accuracy= 1.000\n",
            "Testing ACcuracy: 0.9613\n",
            "step 6200, Accuracy= 0.992\n",
            "Testing ACcuracy: 0.9592\n",
            "step 6300, Accuracy= 1.000\n",
            "Testing ACcuracy: 0.9584\n",
            "step 6400, Accuracy= 0.992\n",
            "Testing ACcuracy: 0.9601\n",
            "step 6500, Accuracy= 1.000\n",
            "Testing ACcuracy: 0.9595\n",
            "step 6600, Accuracy= 0.992\n",
            "Testing ACcuracy: 0.9611\n",
            "step 6700, Accuracy= 0.992\n",
            "Testing ACcuracy: 0.9578\n",
            "step 6800, Accuracy= 1.000\n",
            "Testing ACcuracy: 0.9632\n",
            "step 6900, Accuracy= 1.000\n",
            "Testing ACcuracy: 0.961\n",
            "step 7000, Accuracy= 1.000\n",
            "Testing ACcuracy: 0.9626\n",
            "step 7100, Accuracy= 0.992\n",
            "Testing ACcuracy: 0.9646\n",
            "step 7200, Accuracy= 0.992\n",
            "Testing ACcuracy: 0.9638\n",
            "step 7300, Accuracy= 0.992\n",
            "Testing ACcuracy: 0.9626\n",
            "step 7400, Accuracy= 1.000\n",
            "Testing ACcuracy: 0.9598\n",
            "step 7500, Accuracy= 1.000\n",
            "Testing ACcuracy: 0.9646\n",
            "step 7600, Accuracy= 1.000\n",
            "Testing ACcuracy: 0.9657\n",
            "step 7700, Accuracy= 0.984\n",
            "Testing ACcuracy: 0.9629\n",
            "step 7800, Accuracy= 1.000\n",
            "Testing ACcuracy: 0.963\n",
            "step 7900, Accuracy= 1.000\n",
            "Testing ACcuracy: 0.9637\n",
            "step 8000, Accuracy= 1.000\n",
            "Testing ACcuracy: 0.9637\n",
            "step 8100, Accuracy= 1.000\n",
            "Testing ACcuracy: 0.9668\n",
            "step 8200, Accuracy= 1.000\n",
            "Testing ACcuracy: 0.9655\n",
            "step 8300, Accuracy= 0.992\n",
            "Testing ACcuracy: 0.9639\n",
            "step 8400, Accuracy= 1.000\n",
            "Testing ACcuracy: 0.962\n",
            "step 8500, Accuracy= 1.000\n",
            "Testing ACcuracy: 0.9673\n",
            "step 8600, Accuracy= 1.000\n",
            "Testing ACcuracy: 0.9601\n",
            "step 8700, Accuracy= 1.000\n",
            "Testing ACcuracy: 0.9634\n",
            "step 8800, Accuracy= 0.992\n",
            "Testing ACcuracy: 0.9677\n",
            "step 8900, Accuracy= 1.000\n",
            "Testing ACcuracy: 0.9626\n",
            "step 9000, Accuracy= 1.000\n",
            "Testing ACcuracy: 0.9613\n",
            "step 9100, Accuracy= 1.000\n",
            "Testing ACcuracy: 0.9665\n",
            "step 9200, Accuracy= 1.000\n",
            "Testing ACcuracy: 0.9617\n",
            "step 9300, Accuracy= 1.000\n",
            "Testing ACcuracy: 0.9652\n",
            "step 9400, Accuracy= 1.000\n",
            "Testing ACcuracy: 0.965\n",
            "step 9500, Accuracy= 1.000\n",
            "Testing ACcuracy: 0.9658\n",
            "step 9600, Accuracy= 1.000\n",
            "Testing ACcuracy: 0.9659\n",
            "step 9700, Accuracy= 1.000\n",
            "Testing ACcuracy: 0.9659\n",
            "step 9800, Accuracy= 1.000\n",
            "Testing ACcuracy: 0.964\n",
            "step 9900, Accuracy= 1.000\n",
            "Testing ACcuracy: 0.9663\n",
            "Training finished!\n",
            "Testing ACcuracy: 0.9675\n"
          ],
          "name": "stdout"
        }
      ]
    },
    {
      "metadata": {
        "id": "xbr60jCCGVLg",
        "colab_type": "text"
      },
      "cell_type": "markdown",
      "source": [
        "<h2>Your results</h2>"
      ]
    },
    {
      "metadata": {
        "id": "qCBM8Xrg9zXy",
        "colab_type": "text"
      },
      "cell_type": "markdown",
      "source": [
        "1.change number of training steps:\n",
        "\n",
        "| training steps | 500|1000  |  5000|10000\n",
        "|------  |------|\n",
        "|   accuracy | 0.8694|0.8702|0.8738| 0.8808\n",
        "\n",
        "Accuracy increases with training steps increases, so we choose training steps = 10000\n",
        "\n",
        "\n",
        "2.change activation function:\n",
        "\n",
        "| activation function | none|tanh   |  sigmoid|relu\n",
        "|------  |------|\n",
        "|   accuracy | 0.8734|0.7727|0.7909| 0.818\n",
        "\n",
        "Though without activation function, accuracy is largest, for more appoporiate for future adjustment, we choose relu as activation function.\n",
        "\n",
        "3.change neural network structure\n",
        "\n",
        "| layer | (300,100)|(300,400)  |  (500,400)|(500,400,400)|(500,800,500)| (800,1000,800)\n",
        "|------  |------|\n",
        "|   accuracy | 0.818|0.9242|0.9279| 0.9582|0.952|0.96\n",
        "\n",
        "use 3 hidden layer, hidden layeer size is 800,1000,800\n",
        "\n",
        "4.change learning rate\n",
        "\n",
        "| learning rate  |0.01|0.005  |  0.001|0.0005|0.0001\n",
        "|------  |------|\n",
        "|   accuracy | 0.96|0.963|0.9675| 0.960|0.955\n",
        "\n",
        "choose learning rate = 0.001\n",
        "\n",
        "\n",
        "\n",
        "##final parameter configuration:\n",
        "\n",
        "\n",
        "lr = 0.001\n",
        "\n",
        "num_steps =10000\n",
        "\n",
        "batch_size = 128\n",
        "\n",
        "\n",
        "n_hidden_1 = 800\n",
        "\n",
        "n_hidden_2 = 1000\n",
        "\n",
        "n_hidden_3 = 800\n",
        "\n",
        "activation fuction: relu\n",
        "\n",
        "##accuracy = 0.9675\n",
        "\n",
        "\n",
        "Activation function, number of layers, number of neurons cotribute most to improve the performance of model.\n",
        "\n",
        "However, the changes caused by number of training steps is very small.\n",
        "\n",
        "possible explaination: the structure of initial neural network is too simple to predict with high accuracy, change the layers and neurons improve the complexity of model and thus improves accuracy.\n"
      ]
    }
  ]
}