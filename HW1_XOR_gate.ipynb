{
  "nbformat": 4,
  "nbformat_minor": 0,
  "metadata": {
    "colab": {
      "name": "HW1_XOR-gate.ipynb",
      "version": "0.3.2",
      "provenance": []
    },
    "language_info": {
      "codemirror_mode": {
        "name": "ipython",
        "version": 3
      },
      "file_extension": ".py",
      "mimetype": "text/x-python",
      "name": "python",
      "nbconvert_exporter": "python",
      "pygments_lexer": "ipython3",
      "version": "3.7.3"
    },
    "kernelspec": {
      "display_name": "Python 3",
      "language": "python",
      "name": "python3"
    }
  },
  "cells": [
    {
      "metadata": {
        "id": "b_dNVI27HSfd",
        "colab_type": "code",
        "colab": {}
      },
      "cell_type": "code",
      "source": [
        "import tensorflow as tf\n",
        "import numpy as np\n",
        "import matplotlib.pyplot as plt"
      ],
      "execution_count": 0,
      "outputs": []
    },
    {
      "metadata": {
        "id": "VqAAkTNBHSfg",
        "colab_type": "text"
      },
      "cell_type": "markdown",
      "source": [
        "<h2>Define Hyper-parameters</h2>"
      ]
    },
    {
      "metadata": {
        "id": "hSK0RvggHSfh",
        "colab_type": "code",
        "colab": {}
      },
      "cell_type": "code",
      "source": [
        "#define number of training iterations\n",
        "NUM_ITER = 1000\n",
        "#define learning rate\n",
        "lr = 0.01\n",
        "#network parameters\n",
        "n_hidden_1 = 2\n",
        "num_input = 2\n",
        "num_classes = 2"
      ],
      "execution_count": 0,
      "outputs": []
    },
    {
      "metadata": {
        "id": "3aNc14d0HSfj",
        "colab_type": "text"
      },
      "cell_type": "markdown",
      "source": [
        "<h2>Define your input data and expected labels</h2>"
      ]
    },
    {
      "metadata": {
        "id": "VjFL50_nHSfj",
        "colab_type": "code",
        "colab": {}
      },
      "cell_type": "code",
      "source": [
        "#define the training input data\n",
        "x = np.array([[0,0],[1,0],[1,1],[0,1]],np.float32)\n",
        "#define the target outputs/labels for XOR gate\n",
        "y = np.array([0,1,0,1],np.float32)\n",
        "y = np.reshape(y,[4,1])"
      ],
      "execution_count": 0,
      "outputs": []
    },
    {
      "metadata": {
        "id": "OvNYeb_HZPR9",
        "colab_type": "code",
        "colab": {}
      },
      "cell_type": "code",
      "source": [
        "# Function to plot decision boundary\n",
        "def plot_decision_boundary(pred_func, X):\n",
        "    # Set min and max values and give it some padding\n",
        "    x_min, x_max =  - .1, 1.1\n",
        "    y_min, y_max = - .1, 1.1\n",
        "    h = 0.01\n",
        "    # Generate a grid of points with distance h between them\n",
        "    xx, yy = np.meshgrid(np.arange(x_min, x_max, h), np.arange(y_min, y_max, h))\n",
        "    # Predict the function value for the whole gid\n",
        "    Z = pred_func(np.c_[xx.ravel(), yy.ravel()])\n",
        "    Z = Z.reshape(xx.shape)\n",
        "    # Plot the contour and training examples\n",
        "    plt.title('Decision Boudary')\n",
        "    plt.contourf(xx, yy, Z, cmap=plt.cm.copper)\n",
        "\n",
        "    # plot scatter plot for all samples, different class with different color\n",
        "    for x1, y1 in zip(x,y):\n",
        "      if  y1 == 0:\n",
        "        plt.scatter(x1[0],x1[1],c='blue')  \n",
        "      else:\n",
        "        plt.scatter(x1[0],x1[1],c='red') "
      ],
      "execution_count": 0,
      "outputs": []
    },
    {
      "metadata": {
        "id": "eLYV4vKlHSfl",
        "colab_type": "text"
      },
      "cell_type": "markdown",
      "source": [
        "<h2>Define placeholder and Variables</h2>"
      ]
    },
    {
      "metadata": {
        "id": "tKDe2GJRHSfm",
        "colab_type": "code",
        "colab": {}
      },
      "cell_type": "code",
      "source": [
        "tf.reset_default_graph()\n",
        "#define the placeholder to feed the training data later\n",
        "X = tf.placeholder(tf.float32,shape=[None,num_input],name='X')\n",
        "Y = tf.placeholder(tf.float32,shape=[None,1],name='Y')\n",
        "\n",
        "#define the weights and initialized with random normal distribution\n",
        "weights = {\n",
        "    'W1':tf.Variable(tf.random_normal([num_input,n_hidden_1]),tf.float32,name='W1'),\n",
        "    'Wout':tf.Variable(tf.random_normal([n_hidden_1,1]),tf.float32,name='Wout')      \n",
        "} \n",
        "\n",
        "#define the bias with zero initialization\n",
        "biases = {\n",
        "    'b1': tf.Variable(tf.zeros([n_hidden_1]),tf.float32,name='b1'),\n",
        "    'bout': tf.Variable(tf.zeros([1]),tf.float32,name='bout')    \n",
        "}\n"
      ],
      "execution_count": 0,
      "outputs": []
    },
    {
      "metadata": {
        "id": "yGYmkdKQHSfq",
        "colab_type": "text"
      },
      "cell_type": "markdown",
      "source": [
        "<h2>Define the neural network</h2>"
      ]
    },
    {
      "metadata": {
        "id": "K93Z4eyPHSfq",
        "colab_type": "code",
        "colab": {}
      },
      "cell_type": "code",
      "source": [
        "#define a neural net model\n",
        "def neural_net(x):\n",
        "    layer_1_out = tf.tanh(tf.matmul(X,weights['W1']) + biases['b1'])\n",
        "    out = tf.add(tf.matmul(layer_1_out,weights['Wout']),biases['bout'])\n",
        "    return out\n",
        "\n",
        "#predicted labels\n",
        "logits = neural_net(X)\n"
      ],
      "execution_count": 0,
      "outputs": []
    },
    {
      "metadata": {
        "id": "DuIuMOcgHSfs",
        "colab_type": "text"
      },
      "cell_type": "markdown",
      "source": [
        "<h2>Define cost function</h2>"
      ]
    },
    {
      "metadata": {
        "id": "sIeaaeanHSft",
        "colab_type": "text"
      },
      "cell_type": "markdown",
      "source": [
        "2 class cross-entropy :   $ Cost = \\sum\\limits_{i=1}^n[ ylog\\hat{y}+(1-y)log(1-\\hat{y})]$"
      ]
    },
    {
      "metadata": {
        "id": "8zthFBNpHSft",
        "colab_type": "code",
        "colab": {}
      },
      "cell_type": "code",
      "source": [
        "#define loss\n",
        "cost = tf.reduce_sum(tf.nn.sigmoid_cross_entropy_with_logits(logits=neural_net(X),labels=Y),name='loss')\n",
        "pred = tf.round(tf.sigmoid(neural_net(X)))\n",
        "correct_pred = tf.equal(pred,Y)\n",
        "accuracy = tf.reduce_mean(tf.cast(correct_pred,tf.float32),name='accuracy')\n",
        "#define the optimizer, here we use standard gradient descent method\n",
        "optimizer = tf.train.GradientDescentOptimizer(lr).minimize(cost)\n"
      ],
      "execution_count": 0,
      "outputs": []
    },
    {
      "metadata": {
        "id": "C-yzj9DPHSfv",
        "colab_type": "text"
      },
      "cell_type": "markdown",
      "source": [
        "<h2>Execute training</h2>"
      ]
    },
    {
      "metadata": {
        "scrolled": false,
        "id": "2pFD8BiZHSfw",
        "colab_type": "code",
        "colab": {
          "base_uri": "https://localhost:8080/",
          "height": 383
        },
        "outputId": "e89c1fab-be3e-41f4-b1c4-4879d3e63938"
      },
      "cell_type": "code",
      "source": [
        "#initialize tensorflow variables\n",
        "init = tf.global_variables_initializer()\n",
        "\n",
        "# construct cost_list to plot\n",
        "ac_list = []\n",
        "\n",
        "#start tensorflow session\n",
        "with tf.Session() as sess:\n",
        "    #run initialization\n",
        "    sess.run(init)\n",
        "    #training for number of iterations\n",
        "    for i in range(NUM_ITER):\n",
        "        ac_list.append(sess.run(accuracy,feed_dict={X:x,Y:y}))\n",
        "        if i == NUM_ITER-1:\n",
        "            pred1 = sess.run(tf.round(tf.sigmoid(logits)),feed_dict = {X:x})\n",
        "            print('final state prediction:\\n','x   ','y_true','y_prediction')\n",
        "            for i, j, k in zip(x,y,pred1):\n",
        "              print(i,j,k)\n",
        "\n",
        "        #every iteration we run optimization on the training data X and labels Y\n",
        "        sess.run(optimizer,feed_dict = {X:x,Y:y})\n",
        "        \n",
        "    plot_decision_boundary(lambda x: sess.run(pred, feed_dict={X:x}), x)  \n",
        "              "
      ],
      "execution_count": 77,
      "outputs": [
        {
          "output_type": "stream",
          "text": [
            "final state prediction:\n",
            " x    y_true y_prediction\n",
            "[0. 0.] [0.] [0.]\n",
            "[1. 0.] [1.] [1.]\n",
            "[1. 1.] [0.] [0.]\n",
            "[0. 1.] [1.] [1.]\n"
          ],
          "name": "stdout"
        },
        {
          "output_type": "display_data",
          "data": {
            "image/png": "[encoded data removed]",
            "text/plain": [
              "<Figure size 432x288 with 1 Axes>"
            ]
          },
          "metadata": {
            "tags": []
          }
        }
      ]
    },
    {
      "metadata": {
        "id": "fzSeliQrHSfx",
        "colab_type": "text"
      },
      "cell_type": "markdown",
      "source": [
        "<h2>Plot</h2>"
      ]
    },
    {
      "metadata": {
        "id": "_XmTMBi7HSf0",
        "colab_type": "code",
        "colab": {
          "base_uri": "https://localhost:8080/",
          "height": 312
        },
        "outputId": "ebfdbe7e-631d-4869-cb36-35f5f23cea6f"
      },
      "cell_type": "code",
      "source": [
        "    # plot cost vs epoch\n",
        "    plot_x = np.arange(0,NUM_ITER,1)\n",
        "    plot_y = ac_list\n",
        "    plt.title('Accuracy vs Epoch')\n",
        "    plt.xlabel(\"Accuracy\")\n",
        "    plt.ylabel(\"Cost\")\n",
        "    plt.plot(plot_x, plot_y, color='k', linewidth=2)"
      ],
      "execution_count": 78,
      "outputs": [
        {
          "output_type": "execute_result",
          "data": {
            "text/plain": [
              "[<matplotlib.lines.Line2D at 0x7fb8bce0a9e8>]"
            ]
          },
          "metadata": {
            "tags": []
          },
          "execution_count": 78
        },
        {
          "output_type": "display_data",
          "data": {
            "image/png": "[encoded data removed]",
            "text/plain": [
              "<Figure size 432x288 with 1 Axes>"
            ]
          },
          "metadata": {
            "tags": []
          }
        }
      ]
    }
  ]
}