{
 "cells": [
  {
   "cell_type": "code",
   "execution_count": 1,
   "metadata": {},
   "outputs": [
    {
     "data": {
      "text/html": [
       "<style>.container { width:100% !important; }</style>"
      ],
      "text/plain": [
       "<IPython.core.display.HTML object>"
      ]
     },
     "metadata": {},
     "output_type": "display_data"
    }
   ],
   "source": [
    "from IPython.core.display import display, HTML\n",
    "display(HTML(\"<style>.container { width:100% !important; }</style>\"))"
   ]
  },
  {
   "cell_type": "code",
   "execution_count": 2,
   "metadata": {},
   "outputs": [],
   "source": [
    "import numpy as np\n",
    "import matplotlib.pyplot as plt\n",
    "import pandas as pd\n",
    "import datetime\n",
    "from sklearn.preprocessing import MinMaxScaler\n",
    "import tensorflow as tf\n",
    "import time"
   ]
  },
  {
   "cell_type": "markdown",
   "metadata": {},
   "source": [
    "# Preprocess Data\n",
    "In the <b>HW3_template</b> folder you will find `TSLA.csv`, `GOOGL.csv` and `DJI.csv` files. Use Pandas (You have used it in HW1) to retrieve the dataset. Use only <b>Open</b> price as your input. (You will train three models for three different stocks, don't mix these data together!)"
   ]
  },
  {
   "cell_type": "code",
   "execution_count": 3,
   "metadata": {},
   "outputs": [],
   "source": [
    "data = pd.read_csv('DJI.csv')\n",
    "data = data['Open']"
   ]
  },
  {
   "cell_type": "code",
   "execution_count": 4,
   "metadata": {},
   "outputs": [
    {
     "name": "stdout",
     "output_type": "stream",
     "text": [
      "(8636,)\n"
     ]
    }
   ],
   "source": [
    "print(data.shape)"
   ]
  },
  {
   "cell_type": "markdown",
   "metadata": {},
   "source": [
    "## Normalize your data\n",
    "You could use `MinMaxScaler` in `sklearn.preprocessing` to normalize the data between 0 and 1."
   ]
  },
  {
   "cell_type": "code",
   "execution_count": 5,
   "metadata": {},
   "outputs": [],
   "source": [
    "scaler = MinMaxScaler()\n",
    "x = scaler.fit_transform(data.values.reshape((-1,1)))"
   ]
  },
  {
   "cell_type": "code",
   "execution_count": 6,
   "metadata": {},
   "outputs": [
    {
     "name": "stdout",
     "output_type": "stream",
     "text": [
      "[[0.00132905]\n",
      " [0.00209693]\n",
      " [0.00154476]\n",
      " ...\n",
      " [0.99240281]\n",
      " [0.9833402 ]\n",
      " [0.98224563]]\n"
     ]
    }
   ],
   "source": [
    "print(x)"
   ]
  },
  {
   "cell_type": "markdown",
   "metadata": {},
   "source": [
    "# Split training, validation and testing data\n",
    "<p style=\"font-size:20px\">Since you will impelement a many-to-one Recurrent Neural Network model, every input data will have shape [batch_size, num_seq, input_size] and output data will have shape [batch_size, input_size] "
   ]
  },
  {
   "cell_type": "code",
   "execution_count": 7,
   "metadata": {},
   "outputs": [],
   "source": [
    "import copy\n",
    "def batch_generator(data, batch_size,num_seq):\n",
    "    data1 = copy.deepcopy(data)\n",
    "    # generate sequence\n",
    "    x_s = []\n",
    "    y_s = []\n",
    "    for i in range(len(data1)-num_seq):\n",
    "        x_s.append(data1[i:i+num_seq])\n",
    "        y_s.append(data1[i+num_seq])\n",
    "        \n",
    "    # generate batch    \n",
    "    start_idx = 0\n",
    "    end_idx = batch_size\n",
    "    while end_idx < len(data):\n",
    "        x = np.reshape(x_s[start_idx:end_idx],(batch_size,num_seq,1))\n",
    "        y = np.reshape(y_s[start_idx:end_idx],(batch_size,1))\n",
    "        yield(x,y)\n",
    "        start_idx += batch_size\n",
    "        end_idx += batch_size"
   ]
  },
  {
   "cell_type": "code",
   "execution_count": 8,
   "metadata": {},
   "outputs": [],
   "source": [
    "a = int(len(data)*0.8)\n",
    "b = int(len(data)*0.9)\n",
    "train_data,val_data,test_data = x[:a],x[a:b],x[b:]\n"
   ]
  },
  {
   "cell_type": "code",
   "execution_count": 9,
   "metadata": {},
   "outputs": [
    {
     "name": "stdout",
     "output_type": "stream",
     "text": [
      "(6908, 1)\n",
      "(864, 1)\n",
      "(864, 1)\n"
     ]
    }
   ],
   "source": [
    "print(train_data.shape)\n",
    "print(val_data.shape)\n",
    "print(test_data.shape)"
   ]
  },
  {
   "cell_type": "markdown",
   "metadata": {},
   "source": [
    "# TesnorFlow Model"
   ]
  },
  {
   "cell_type": "code",
   "execution_count": 10,
   "metadata": {},
   "outputs": [],
   "source": [
    "epoch = 2000\n",
    "#unrolled through 8 time steps\n",
    "num_seq=7\n",
    "#hidden LSTM units\n",
    "num_units=300\n",
    "# each cell input 1 \n",
    "input_size=1\n",
    "output_size = 1\n",
    "#learning rate for adam\n",
    "learning_rate=0.001\n",
    "\n",
    "#size of batch\n",
    "batch_size=128\n",
    "\n",
    "keep_prob = 0.8"
   ]
  },
  {
   "cell_type": "code",
   "execution_count": 11,
   "metadata": {},
   "outputs": [],
   "source": [
    "tf.reset_default_graph()"
   ]
  },
  {
   "cell_type": "code",
   "execution_count": 12,
   "metadata": {},
   "outputs": [],
   "source": [
    "X = tf.placeholder(tf.float64,[None,num_seq,input_size],name='X')\n",
    "Y = tf.placeholder(tf.float64,[None,output_size],name='Y')"
   ]
  },
  {
   "cell_type": "code",
   "execution_count": 13,
   "metadata": {},
   "outputs": [],
   "source": [
    "def lstm(X):\n",
    "    lstm_cell=tf.contrib.rnn.BasicLSTMCell(num_units,forget_bias=1)\n",
    "    lstm_cell = tf.nn.rnn_cell.DropoutWrapper(lstm_cell, output_keep_prob=keep_prob)\n",
    "    initial_state = lstm_cell.zero_state(batch_size,dtype=tf.float64)\n",
    "    #  output shape :[batch_size, num_seq, num_units] final_state: [batch_size, num_units]\n",
    "    outputs,final_state = tf.nn.dynamic_rnn(cell = lstm_cell, inputs = X, initial_state = initial_state,dtype=\"float64\")\n",
    "    return outputs"
   ]
  },
  {
   "cell_type": "code",
   "execution_count": 14,
   "metadata": {},
   "outputs": [
    {
     "name": "stdout",
     "output_type": "stream",
     "text": [
      "\n",
      "WARNING: The TensorFlow contrib module will not be included in TensorFlow 2.0.\n",
      "For more information, please see:\n",
      "  * https://github.com/tensorflow/community/blob/master/rfcs/20180907-contrib-sunset.md\n",
      "  * https://github.com/tensorflow/addons\n",
      "If you depend on functionality not listed there, please file an issue.\n",
      "\n",
      "WARNING:tensorflow:From <ipython-input-13-a37138d74955>:2: BasicLSTMCell.__init__ (from tensorflow.python.ops.rnn_cell_impl) is deprecated and will be removed in a future version.\n",
      "Instructions for updating:\n",
      "This class is equivalent as tf.keras.layers.LSTMCell, and will be replaced by that in Tensorflow 2.0.\n",
      "WARNING:tensorflow:From <ipython-input-13-a37138d74955>:6: dynamic_rnn (from tensorflow.python.ops.rnn) is deprecated and will be removed in a future version.\n",
      "Instructions for updating:\n",
      "Please use `keras.layers.RNN(cell)`, which is equivalent to this API\n",
      "WARNING:tensorflow:From /usr/local/lib/python3.5/dist-packages/tensorflow/python/ops/tensor_array_ops.py:162: colocate_with (from tensorflow.python.framework.ops) is deprecated and will be removed in a future version.\n",
      "Instructions for updating:\n",
      "Colocations handled automatically by placer.\n",
      "WARNING:tensorflow:From /usr/local/lib/python3.5/dist-packages/tensorflow/python/ops/rnn_cell_impl.py:1259: calling dropout (from tensorflow.python.ops.nn_ops) with keep_prob is deprecated and will be removed in a future version.\n",
      "Instructions for updating:\n",
      "Please use `rate` instead of `keep_prob`. Rate should be set to `rate = 1 - keep_prob`.\n"
     ]
    }
   ],
   "source": [
    "Y_pred = tf.contrib.layers.fully_connected(lstm(X)[:,-1,:],output_size)\n",
    "#loss_function\n",
    "# loss=tf.losses.mean_squared_error(Y,Y_pred)\n",
    "loss = tf.reduce_sum(tf.square(Y-Y_pred))\n",
    "#optimization\n",
    "opt=tf.train.AdamOptimizer(learning_rate=learning_rate).minimize(loss)\n"
   ]
  },
  {
   "cell_type": "markdown",
   "metadata": {},
   "source": [
    "# Training"
   ]
  },
  {
   "cell_type": "code",
   "execution_count": 92,
   "metadata": {},
   "outputs": [
    {
     "name": "stdout",
     "output_type": "stream",
     "text": [
      "Training finished!\n"
     ]
    },
    {
     "data": {
      "image/png": "[encoded data removed]",
      "text/plain": [
       "<Figure size 432x288 with 1 Axes>"
      ]
     },
     "metadata": {},
     "output_type": "display_data"
    }
   ],
   "source": [
    "from tqdm import tqdm\n",
    "epoch_list = []\n",
    "train_loss_list = []\n",
    "val_loss_list = []\n",
    "\n",
    "with tf.Session() as sess:\n",
    "    sess.run(tf.global_variables_initializer())\n",
    "\n",
    "    for i in range(1,epoch+1):\n",
    "        #fetch batch\n",
    "        training_data = batch_generator(train_data, batch_size,num_seq)\n",
    "        for t_data, labels in training_data:\n",
    "            f_dict = {X: t_data, Y: labels}\n",
    "            sess.run(opt, feed_dict=f_dict)\n",
    "\n",
    "                \n",
    "        if(i%10 == 0):\n",
    "            epoch_list.append(i)\n",
    "            \n",
    "            train_loss = 0\n",
    "            training_data = batch_generator(train_data, batch_size,num_seq)\n",
    "            for t_data, labels in training_data:\n",
    "                f_dict = {X: t_data, Y: labels}\n",
    "                train_loss += sess.run(loss, feed_dict=f_dict)\n",
    "            train_loss /= len(train_data)\n",
    "            train_loss_list.append(train_loss)\n",
    "            \n",
    "            val_loss = 0\n",
    "            validation_data = batch_generator(val_data, batch_size,num_seq)\n",
    "            for v_data, labels in validation_data:\n",
    "                f_dict = {X: v_data, Y: labels}\n",
    "                val_loss += sess.run(loss, feed_dict=f_dict)\n",
    "            val_loss /=len(val_data)\n",
    "            val_loss_list.append(val_loss)\n",
    "\n",
    "\n",
    "            #print('Epoch'+str(i),\"train loss= {:.10f}\".format(train_loss),\"validation loss= {:.10f}\".format(val_loss))\n",
    "    \n",
    "    \n",
    "    print(\"Training finished!\")\n",
    "# Draw lines\n",
    "plt.plot(epoch_list,train_loss_list,  '--', color=\"#111111\",  label=\"Training loss\")\n",
    "plt.plot(epoch_list,val_loss_list,  color=\"#111111\", label=\"validation loss\")\n",
    "\n",
    "\n",
    "# Create plot\n",
    "plt.title(\"Learning Curve\")\n",
    "plt.xlabel(\"Epoch\"), plt.ylabel(\"Loss\"), plt.legend(loc=\"best\")\n",
    "plt.tight_layout()\n",
    "plt.show()\n"
   ]
  },
  {
   "cell_type": "markdown",
   "metadata": {},
   "source": [
    "# Testing"
   ]
  },
  {
   "cell_type": "code",
   "execution_count": 18,
   "metadata": {},
   "outputs": [
    {
     "name": "stderr",
     "output_type": "stream",
     "text": [
      "100%|██████████| 499/499 [06:04<00:00,  1.38it/s]\n"
     ]
    }
   ],
   "source": [
    "from tqdm import tqdm\n",
    "prediction = []\n",
    "with tf.Session() as sess:\n",
    "    sess.run(tf.global_variables_initializer())\n",
    "\n",
    "    for i in tqdm(range(1,500)):\n",
    "        #fetch batch\n",
    "        training_data = batch_generator(train_data, batch_size,num_seq)\n",
    "        for t_data, labels in training_data:\n",
    "            f_dict = {X: t_data, Y: labels}\n",
    "            sess.run(opt, feed_dict=f_dict)\n",
    "        \n",
    "    testing_data = batch_generator(test_data, batch_size,num_seq)\n",
    "    for tt_data, labels in testing_data:\n",
    "        f_dict = {X: tt_data, Y: labels}\n",
    "        prediction.append(sess.run(Y_pred, feed_dict=f_dict))\n"
   ]
  },
  {
   "cell_type": "code",
   "execution_count": 19,
   "metadata": {},
   "outputs": [
    {
     "data": {
      "image/png": "[encoded data removed]",
      "text/plain": [
       "<Figure size 432x288 with 1 Axes>"
      ]
     },
     "metadata": {},
     "output_type": "display_data"
    }
   ],
   "source": [
    "# Draw lines\n",
    "plt.plot(test_data[num_seq-1:100+num_seq-1],  '--', color=\"#111111\",  label=\"ground truth\")\n",
    "plt.plot(prediction[0][:100],  color=\"#1ABFCF\", label=\"prediction\")\n",
    "\n",
    "\n",
    "# Create plot\n",
    "plt.title(\"Prediction vs Groundtruth\")\n",
    "plt.xlabel(\"day\"), plt.ylabel(\"prediction\"), plt.legend(loc=\"best\")\n",
    "plt.tight_layout()\n",
    "plt.show()"
   ]
  },
  {
   "cell_type": "code",
   "execution_count": null,
   "metadata": {},
   "outputs": [],
   "source": []
  }
 ],
 "metadata": {
  "kernelspec": {
   "display_name": "Python 3",
   "language": "python",
   "name": "python3"
  },
  "language_info": {
   "codemirror_mode": {
    "name": "ipython",
    "version": 3
   },
   "file_extension": ".py",
   "mimetype": "text/x-python",
   "name": "python",
   "nbconvert_exporter": "python",
   "pygments_lexer": "ipython3",
   "version": "3.5.3"
  }
 },
 "nbformat": 4,
 "nbformat_minor": 2
}
