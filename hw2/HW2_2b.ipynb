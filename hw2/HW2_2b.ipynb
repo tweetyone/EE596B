{
 "cells": [
  {
   "cell_type": "code",
   "execution_count": 107,
   "metadata": {},
   "outputs": [],
   "source": [
    "import tensorflow as tf\n",
    "import pickle\n",
    "import numpy as np\n",
    "import time\n",
    "from load_cifar import *\n",
    "import matplotlib.pyplot as plt"
   ]
  },
  {
   "cell_type": "markdown",
   "metadata": {},
   "source": [
    "<h1>Define Hyper-perparmeter</h1>"
   ]
  },
  {
   "cell_type": "code",
   "execution_count": 108,
   "metadata": {},
   "outputs": [],
   "source": [
    "tf.reset_default_graph()"
   ]
  },
  {
   "cell_type": "code",
   "execution_count": 109,
   "metadata": {},
   "outputs": [],
   "source": [
    "#learning rate\n",
    "lr = 0.0001\n",
    "#number of traning steps\n",
    "epoch = 50\n",
    "#number of batch_size\n",
    "batch_size = 128\n",
    "#network parameters\n",
    "n_hidden_1 = 1024\n",
    "n_hidden_2 = 512\n",
    "n_hidden_3 = 512\n",
    "n_hidden_4 = 1024\n",
    "num_input = 3072\n",
    "num_classes = 10"
   ]
  },
  {
   "cell_type": "markdown",
   "metadata": {},
   "source": [
    "<h1>Define Placeholder</h1>"
   ]
  },
  {
   "cell_type": "code",
   "execution_count": 110,
   "metadata": {},
   "outputs": [],
   "source": [
    "tf.reset_default_graph()\n",
    "#tf graph input\n",
    "\n",
    "X = tf.placeholder(tf.float32,[None,num_input],name='X')\n",
    "Y = tf.placeholder(tf.int32,[None,num_classes],name='Y')\n"
   ]
  },
  {
   "cell_type": "markdown",
   "metadata": {},
   "source": [
    "<h1>Define Neural Network Architecture</h1>"
   ]
  },
  {
   "cell_type": "code",
   "execution_count": 111,
   "metadata": {},
   "outputs": [],
   "source": [
    "# fully connected network\n",
    "layer1 = tf.layers.dense(X, n_hidden_1, activation=tf.nn.relu,kernel_regularizer=tf.contrib.layers.l2_regularizer(0.001))\n",
    "layer2 = tf.layers.dense(layer1, n_hidden_2, activation=tf.nn.relu,kernel_regularizer=tf.contrib.layers.l2_regularizer(0.001))\n",
    "layer3 = tf.layers.dense(layer2, n_hidden_3, activation=tf.nn.relu,kernel_regularizer=tf.contrib.layers.l2_regularizer(0.001))\n",
    "dropout = tf.layers.dropout(layer3,rate=0.3,noise_shape=None,seed=None,training=False,name=None)\n",
    "layer4 = tf.layers.dense(dropout, n_hidden_4, activation=tf.nn.tanh,kernel_regularizer=tf.contrib.layers.l2_regularizer(0.001))\n",
    "output = tf.layers.dense(layer4, num_classes, activation=None)"
   ]
  },
  {
   "cell_type": "markdown",
   "metadata": {},
   "source": [
    "<h1>Define cost andoptimization</h1>"
   ]
  },
  {
   "cell_type": "code",
   "execution_count": 112,
   "metadata": {},
   "outputs": [],
   "source": [
    "#define loss\n",
    "loss = tf.reduce_mean(tf.nn.softmax_cross_entropy_with_logits_v2(logits=output,labels=Y),name='loss')\n",
    "#define optimizer\n",
    "optimizer = tf.train.AdamOptimizer(learning_rate=lr)\n",
    "train_op = optimizer.minimize(loss)\n",
    "\n",
    "#compare the predicted labels with true labels\n",
    "correct_pred = tf.equal(tf.argmax(output,1),tf.argmax(Y,1))\n",
    "\n",
    "accuracy = tf.reduce_mean(tf.cast(correct_pred,tf.float32),name='accuracy')\n",
    "#compute the number of correct predictions \n",
    "num_correct = tf.reduce_sum(tf.cast(correct_pred,tf.float32),name='num_correct')"
   ]
  },
  {
   "cell_type": "markdown",
   "metadata": {},
   "source": [
    "<h1>Training and testing</h1>\n",
    "<h2>1.Print out validation accuracy after each training poch</h2>\n",
    "<h2>2.Print out training time you spend on each epoch</h2>\n",
    "<h2>3.Print out testing accuracy in the end</h2>"
   ]
  },
  {
   "cell_type": "code",
   "execution_count": 113,
   "metadata": {
    "scrolled": false
   },
   "outputs": [
    {
     "name": "stdout",
     "output_type": "stream",
     "text": [
      "Epoch 1\n",
      "validation accuracy= 0.405\n",
      "test accuracy = 0.415\n",
      "--- 5.052283525466919 seconds ---\n",
      "\n",
      "Epoch 2\n",
      "validation accuracy= 0.444\n",
      "test accuracy = 0.438\n",
      "--- 4.991722345352173 seconds ---\n",
      "\n",
      "Epoch 3\n",
      "validation accuracy= 0.460\n",
      "test accuracy = 0.460\n",
      "--- 4.74489426612854 seconds ---\n",
      "\n",
      "Epoch 4\n",
      "validation accuracy= 0.473\n",
      "test accuracy = 0.472\n",
      "--- 4.780898571014404 seconds ---\n",
      "\n",
      "Epoch 5\n",
      "validation accuracy= 0.489\n",
      "test accuracy = 0.488\n",
      "--- 4.797839879989624 seconds ---\n",
      "\n",
      "Epoch 6\n",
      "validation accuracy= 0.487\n",
      "test accuracy = 0.482\n",
      "--- 4.800180196762085 seconds ---\n",
      "\n",
      "Epoch 7\n",
      "validation accuracy= 0.493\n",
      "test accuracy = 0.489\n",
      "--- 4.900829792022705 seconds ---\n",
      "\n",
      "Epoch 8\n",
      "validation accuracy= 0.512\n",
      "test accuracy = 0.501\n",
      "--- 4.790241241455078 seconds ---\n",
      "\n",
      "Epoch 9\n",
      "validation accuracy= 0.513\n",
      "test accuracy = 0.501\n",
      "--- 4.792752742767334 seconds ---\n",
      "\n",
      "Epoch 10\n",
      "validation accuracy= 0.520\n",
      "test accuracy = 0.503\n",
      "--- 4.788806438446045 seconds ---\n",
      "\n",
      "Training finished!\n"
     ]
    }
   ],
   "source": [
    "#Initialize the variables\n",
    "init = tf.global_variables_initializer()\n",
    "\n",
    "with tf.Session() as sess:\n",
    "    sess.run(init)\n",
    "    train_accs = []\n",
    "    test_accs = []        \n",
    "    for i in range(1, epoch+1):\n",
    "        #fetch batch\n",
    "        start_time = time.time()\n",
    "        train_correct_sum = 0\n",
    "        train_total = 45000\n",
    "        for batch_id in range(1,6):\n",
    "            #print('Training for Batch: \\t' + str(batch_id))\n",
    "            training_data = load_preprocessed_training_batch(batch_id, batch_size)\n",
    "            for data, labels in training_data:\n",
    "                f_dict = {X: data, Y: labels}\n",
    "                sess.run(train_op, feed_dict=f_dict)\n",
    "                batch_correct_count = sess.run(num_correct, f_dict)\n",
    "                train_correct_sum += batch_correct_count\n",
    "        train_acc = train_correct_sum / train_total\n",
    "        train_accs.append(train_acc)\n",
    "        end_time = time.time()\n",
    "        \n",
    "        current_acc = sess.run(accuracy, feed_dict=f_dict)\n",
    "        # print(current_acc)\n",
    "        \n",
    "        \n",
    "        val_correct_sum = 0\n",
    "        val_total = 5000\n",
    "        val_data = load_preprocessed_validation_batch(batch_size)\n",
    "        for data, labels in val_data:\n",
    "            feed_dict = {X: data, Y: labels}\n",
    "            batch_correct_count = sess.run(num_correct, feed_dict)\n",
    "            val_correct_sum += batch_correct_count\n",
    "        val_acc = val_correct_sum / val_total\n",
    "        if i in range(1,11):\n",
    "            print(\"Epoch \"+str(i))\n",
    "            print(\"validation accuracy= {:.3f}\".format(val_acc))\n",
    "\n",
    "        test_correct_sum = 0\n",
    "        test_data = load_preprocessed_test_batch(batch_size)\n",
    "        test_total = 10000\n",
    "        for data, labels in test_data:\n",
    "            feed_dict = {X: data, Y: labels}\n",
    "            batch_correct_count = sess.run(num_correct, feed_dict)\n",
    "            test_correct_sum += batch_correct_count\n",
    "        test_acc = test_correct_sum / test_total\n",
    "        test_accs.append(test_acc)\n",
    "        if i in range(1,11):\n",
    "            print(\"test accuracy = {:.3f}\".format(test_acc))\n",
    "        \n",
    "            print(\"--- %s seconds ---\" % (end_time - start_time))\n",
    "            print()\n",
    "                \n",
    "    print(\"Training finished!\")"
   ]
  },
  {
   "cell_type": "code",
   "execution_count": 98,
   "metadata": {},
   "outputs": [
    {
     "data": {
      "image/png": "[encoded data removed]",
      "text/plain": [
       "<Figure size 432x288 with 1 Axes>"
      ]
     },
     "metadata": {},
     "output_type": "display_data"
    }
   ],
   "source": [
    "# Draw lines\n",
    "plt.plot(train_accs,  '--', color=\"#111111\",  label=\"Training accuracy\")\n",
    "plt.plot(test_accs,  color=\"#111111\", label=\"Testing accuracy\")\n",
    "\n",
    "\n",
    "# Create plot\n",
    "plt.title(\"Learning Curve\")\n",
    "plt.xlabel(\"Epoch\"), plt.ylabel(\"Accuracy\"), plt.legend(loc=\"best\")\n",
    "plt.tight_layout()\n",
    "plt.show()"
   ]
  },
  {
   "cell_type": "markdown",
   "metadata": {},
   "source": [
    "With the epoch increases, the training accuary continue increasing. The testing accuracy increases at start and then decreases, which means the model is overfitted."
   ]
  }
 ],
 "metadata": {
  "kernelspec": {
   "display_name": "Python 3",
   "language": "python",
   "name": "python3"
  },
  "language_info": {
   "codemirror_mode": {
    "name": "ipython",
    "version": 3
   },
   "file_extension": ".py",
   "mimetype": "text/x-python",
   "name": "python",
   "nbconvert_exporter": "python",
   "pygments_lexer": "ipython3",
   "version": "3.5.3"
  }
 },
 "nbformat": 4,
 "nbformat_minor": 2
}
