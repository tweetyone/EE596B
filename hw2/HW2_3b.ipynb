{
 "cells": [
  {
   "cell_type": "code",
   "execution_count": 126,
   "metadata": {},
   "outputs": [],
   "source": [
    "import tensorflow as tf\n",
    "import pickle\n",
    "import numpy as np\n",
    "import time\n",
    "from load_cifar import *"
   ]
  },
  {
   "cell_type": "code",
   "execution_count": 116,
   "metadata": {},
   "outputs": [],
   "source": [
    "tf.reset_default_graph()"
   ]
  },
  {
   "cell_type": "markdown",
   "metadata": {},
   "source": [
    "<h1>Hyperparameter</h1>"
   ]
  },
  {
   "cell_type": "code",
   "execution_count": 117,
   "metadata": {},
   "outputs": [],
   "source": [
    "# Hyperparameters\n",
    "mu = 0\n",
    "sigma = 0.1\n",
    "epoch = 10\n",
    "batch_size = 64\n",
    "lr = 0.001"
   ]
  },
  {
   "cell_type": "code",
   "execution_count": 118,
   "metadata": {},
   "outputs": [],
   "source": [
    "tf.reset_default_graph()"
   ]
  },
  {
   "cell_type": "markdown",
   "metadata": {},
   "source": [
    "<h1>Placeholder</h1>"
   ]
  },
  {
   "cell_type": "code",
   "execution_count": 119,
   "metadata": {},
   "outputs": [],
   "source": [
    "X = tf.placeholder(tf.float32,[None,32,32,3],name='X')\n",
    "Y = tf.placeholder(tf.int32,[None,10],name='Y')"
   ]
  },
  {
   "cell_type": "markdown",
   "metadata": {},
   "source": [
    "<h1>LeNet-5</h1>"
   ]
  },
  {
   "cell_type": "code",
   "execution_count": 120,
   "metadata": {},
   "outputs": [],
   "source": [
    "from tensorflow.contrib.layers import flatten\n",
    "\n",
    "def LeNet(x):    \n",
    "    \n",
    "    \n",
    "    # Layer 1: Convolutional. Input = 32x32x3. Output = 28x28x6.\n",
    "    conv1_w = tf.Variable(tf.truncated_normal(shape = [5,5,3,6],mean = mu, stddev = sigma))\n",
    "    conv1_b = tf.Variable(tf.zeros(6))\n",
    "    conv1 = tf.nn.conv2d(x,conv1_w, strides = [1,1,1,1], padding = 'VALID') + conv1_b \n",
    "    # Activation.\n",
    "    conv1 = tf.nn.relu(conv1)\n",
    "\n",
    "    # Pooling. Input = 28x28x6. Output = 14x14x6.\n",
    "    pool_1 = tf.nn.max_pool(conv1,ksize = [1,2,2,1], strides = [1,2,2,1], padding = 'VALID')\n",
    "    \n",
    "    # Layer 2: Convolutional. Output = 10x10x16.\n",
    "    conv2_w = tf.Variable(tf.truncated_normal(shape = [5,5,6,16], mean = mu, stddev = sigma))\n",
    "    conv2_b = tf.Variable(tf.zeros(16))\n",
    "    conv2 = tf.nn.conv2d(pool_1, conv2_w, strides = [1,1,1,1], padding = 'VALID') + conv2_b\n",
    "    # Activation.\n",
    "    conv2 = tf.nn.relu(conv2)\n",
    "\n",
    "    # Pooling. Input = 10x10x16. Output = 5x5x16.\n",
    "    pool_2 = tf.nn.max_pool(conv2, ksize = [1,2,2,1], strides = [1,2,2,1], padding = 'VALID') \n",
    "    \n",
    "    # Flatten. Input = 5x5x16. Output = 400.\n",
    "    fc1 = flatten(pool_2)\n",
    "    \n",
    "    # Layer 3: Fully Connected. Input = 400. Output = 120.\n",
    "    fc1_w = tf.Variable(tf.truncated_normal(shape = (400,120), mean = mu, stddev = sigma))\n",
    "    fc1_b = tf.Variable(tf.zeros(120))\n",
    "    fc1 = tf.matmul(fc1,fc1_w) + fc1_b\n",
    "    \n",
    "    # Activation.\n",
    "    fc1 = tf.nn.relu(fc1)\n",
    "    \n",
    "    # Layer 4: Fully Connected. Input = 120. Output = 84.\n",
    "    fc2_w = tf.Variable(tf.truncated_normal(shape = (120,84), mean = mu, stddev = sigma))\n",
    "    fc2_b = tf.Variable(tf.zeros(84))\n",
    "    fc2 = tf.matmul(fc1,fc2_w) + fc2_b\n",
    "    # Activation.\n",
    "    fc2 = tf.nn.tanh(fc2)\n",
    "    \n",
    "    dropout = tf.layers.dropout(fc2,rate=0.2,noise_shape=None,seed=None,training=False,name=None)\n",
    "    \n",
    "    # Layer 5: Fully Connected. Input = 84. Output = 10.\n",
    "    fc3_w = tf.Variable(tf.truncated_normal(shape = (84,10), mean = mu , stddev = sigma))\n",
    "    fc3_b = tf.Variable(tf.zeros(10))\n",
    "    logits = tf.matmul(dropout, fc3_w) + fc3_b\n",
    "    return logits"
   ]
  },
  {
   "cell_type": "markdown",
   "metadata": {},
   "source": [
    "<h1>Cost and Optimization</h1>"
   ]
  },
  {
   "cell_type": "code",
   "execution_count": 121,
   "metadata": {},
   "outputs": [],
   "source": [
    "logits = LeNet(X)\n",
    "cross_entropy = tf.nn.softmax_cross_entropy_with_logits_v2(logits = logits, labels = Y)\n",
    "loss_operation = tf.reduce_mean(cross_entropy)\n",
    "optimizer = tf.train.AdamOptimizer(learning_rate = lr)\n",
    "training_operation = optimizer.minimize(loss_operation)\n",
    "correct_prediction = tf.equal(tf.argmax(logits, 1), tf.argmax(Y, 1))\n",
    "num_correct = tf.reduce_sum(tf.cast(correct_prediction,tf.float32))\n",
    "accuracy_operation = tf.reduce_mean(tf.cast(correct_prediction, tf.float32))\n",
    "saver = tf.train.Saver()"
   ]
  },
  {
   "cell_type": "markdown",
   "metadata": {},
   "source": [
    "<h1>Training, validation and testing</h1>\n",
    "<h2>Train your model only 10 epochs.</h2>\n",
    "<h2>1.Print out validation accuracy after each training epoch</h2>\n",
    "<h2>2.Print out training time for each training epoch</h2>\n",
    "<h2>3.Print out testing accuracy</h2>"
   ]
  },
  {
   "cell_type": "code",
   "execution_count": 122,
   "metadata": {},
   "outputs": [
    {
     "name": "stdout",
     "output_type": "stream",
     "text": [
      "Epoch1\n",
      "validation accuracy= 0.488\n",
      "test accuracy= 0.481\n",
      "--- 5.304867744445801 seconds ---\n",
      "Epoch2\n",
      "validation accuracy= 0.536\n",
      "test accuracy= 0.527\n",
      "--- 5.181605339050293 seconds ---\n",
      "Epoch3\n",
      "validation accuracy= 0.562\n",
      "test accuracy= 0.551\n",
      "--- 5.175970077514648 seconds ---\n",
      "Epoch4\n",
      "validation accuracy= 0.583\n",
      "test accuracy= 0.567\n",
      "--- 5.160879373550415 seconds ---\n",
      "Epoch5\n",
      "validation accuracy= 0.598\n",
      "test accuracy= 0.585\n",
      "--- 5.154704332351685 seconds ---\n",
      "Epoch6\n",
      "validation accuracy= 0.602\n",
      "test accuracy= 0.589\n",
      "--- 5.150904178619385 seconds ---\n",
      "Epoch7\n",
      "validation accuracy= 0.605\n",
      "test accuracy= 0.592\n",
      "--- 5.167161226272583 seconds ---\n",
      "Epoch8\n",
      "validation accuracy= 0.604\n",
      "test accuracy= 0.594\n",
      "--- 5.172987222671509 seconds ---\n",
      "Epoch9\n",
      "validation accuracy= 0.606\n",
      "test accuracy= 0.596\n",
      "--- 5.174516201019287 seconds ---\n",
      "Epoch10\n",
      "validation accuracy= 0.612\n",
      "test accuracy= 0.600\n",
      "--- 5.1498122215271 seconds ---\n",
      "Training finished!\n"
     ]
    }
   ],
   "source": [
    "with tf.Session() as sess:\n",
    "    sess.run(tf.global_variables_initializer())\n",
    "\n",
    "    for i in range(1,epoch+1):\n",
    "        #fetch batch\n",
    "        start_time = time.time()\n",
    "        for batch_id in range(1,6):\n",
    "            # print('Training for Batch: \\t' + str(batch_id))\n",
    "            training_data = load_preprocessed_training_batch(batch_id, batch_size)\n",
    "            for data, labels in training_data:\n",
    "                f_dict = {X: features_reshape(data), Y: labels}\n",
    "                sess.run(training_operation, feed_dict=f_dict)\n",
    "        end_time = time.time()\n",
    "\n",
    "        print('Epoch'+str(i))\n",
    "\n",
    "        val_correct_sum = 0\n",
    "        val_total = 0\n",
    "        val_data = load_preprocessed_validation_batch(batch_size)\n",
    "        for data, labels in val_data:\n",
    "            feed_dict = {X: features_reshape(data), Y: labels}\n",
    "            batch_correct_count = sess.run(num_correct, feed_dict)\n",
    "            val_correct_sum += batch_correct_count\n",
    "            \n",
    "        val_acc = val_correct_sum / 5000\n",
    "        print(\"validation accuracy= {:.3f}\".format(val_acc))\n",
    "\n",
    "        test_correct_sum = 0\n",
    "        test_data = load_preprocessed_test_batch(batch_size)\n",
    "        test_total = 0\n",
    "        for data, labels in test_data:\n",
    "            feed_dict = {X: features_reshape(data), Y: labels}\n",
    "            batch_correct_count = sess.run(num_correct, feed_dict)\n",
    "            test_correct_sum += batch_correct_count\n",
    "        test_acc = test_correct_sum / 10000\n",
    "        print(\"test accuracy= {:.3f}\".format(test_acc))\n",
    "\n",
    "        print(\"--- %s seconds ---\" % (end_time - start_time))\n",
    "\n",
    "            \n",
    "    \n",
    "    print(\"Training finished!\")\n",
    "\n"
   ]
  }
 ],
 "metadata": {
  "kernelspec": {
   "display_name": "Python 3",
   "language": "python",
   "name": "python3"
  },
  "language_info": {
   "codemirror_mode": {
    "name": "ipython",
    "version": 3
   },
   "file_extension": ".py",
   "mimetype": "text/x-python",
   "name": "python",
   "nbconvert_exporter": "python",
   "pygments_lexer": "ipython3",
   "version": "3.5.3"
  }
 },
 "nbformat": 4,
 "nbformat_minor": 2
}
